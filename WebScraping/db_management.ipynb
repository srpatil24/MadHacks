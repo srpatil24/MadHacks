{
 "cells": [
  {
   "cell_type": "code",
   "execution_count": 3,
   "metadata": {},
   "outputs": [],
   "source": [
    "# Start sqllite db\n",
    "import sqlite3\n",
    "import pandas as pd\n"
   ]
  },
  {
   "cell_type": "code",
   "execution_count": 6,
   "metadata": {},
   "outputs": [],
   "source": [
    "\n",
    "conn = sqlite3.connect(\"clubs.db\")\n",
    "c = conn.cursor()\n"
   ]
  },
  {
   "cell_type": "code",
   "execution_count": null,
   "metadata": {},
   "outputs": [],
   "source": [
    "\n",
    "# Make tables\n",
    "c.execute(\n",
    "    \"\"\"CREATE TABLE clubs (\n",
    "    club_id TEXT PRIMARY KEY,\n",
    "    club_name TEXT,\n",
    "    external_website TEXT,\n",
    "    instagramUrl TEXT,\n",
    "    facebookUrl TEXT,\n",
    "    twitterUrl TEXT,\n",
    "    twitterUserName TEXT,\n",
    "    email TEXT,\n",
    "    description TEXT,\n",
    "    summary TEXT\n",
    ")\"\"\"\n",
    ")\n",
    "\n",
    "c.execute(\n",
    "    \"\"\"CREATE TABLE IF NOT EXISTS categories (\n",
    "    category_id INTEGER PRIMARY KEY,\n",
    "    category_name TEXT\n",
    ")\"\"\"\n",
    ")\n",
    "\n",
    "\n",
    "c.execute(\n",
    "    \"\"\"CREATE TABLE IF NOT EXISTS club_categories (\n",
    "    club_id TEXT,\n",
    "    category_id INTEGER,\n",
    "    FOREIGN KEY (club_id) REFERENCES clubs(club_id),\n",
    "    FOREIGN KEY (category_id) REFERENCES categories(category_id)\n",
    ")\"\"\"\n",
    ")\n"
   ]
  },
  {
   "cell_type": "code",
   "execution_count": 8,
   "metadata": {},
   "outputs": [
    {
     "data": {
      "text/plain": [
       "<sqlite3.Cursor at 0x7faced0552c0>"
      ]
     },
     "execution_count": 8,
     "metadata": {},
     "output_type": "execute_result"
    }
   ],
   "source": [
    "# Create media table\n",
    "c.execute(\n",
    "    \"\"\"CREATE TABLE IF NOT EXISTS media (\n",
    "    media_id INTEGER PRIMARY KEY,\n",
    "    club_id TEXT,\n",
    "    media_url TEXT,\n",
    "    media_src TEXT,\n",
    "    post_date TEXT,\n",
    "    FOREIGN KEY (club_id) REFERENCES clubs(club_id)\n",
    "    )\n",
    "    \"\"\"\n",
    ")\n",
    "\n",
    "# Add column club_name to media table\n",
    "c.execute(\n",
    "    \"\"\"ALTER TABLE media\n",
    "    ADD COLUMN club_name TEXT\n",
    "    \"\"\"\n",
    ")"
   ]
  },
  {
   "cell_type": "code",
   "execution_count": 11,
   "metadata": {},
   "outputs": [],
   "source": [
    "\n",
    "def table_summary(db_path, table_name, n=5):\n",
    "    \"\"\"\n",
    "    Prints the first and last 'n' rows of the given table using Pandas for formatting.\n",
    "\n",
    "    db_path: Path to the SQLite database file.\n",
    "    table_name: Name of the table to print head and tail from.\n",
    "    n: Number of rows from the head and tail to print. Default is 5.\n",
    "    \"\"\"\n",
    "    try:\n",
    "        # Connect to the SQLite database\n",
    "        conn = sqlite3.connect(db_path)\n",
    "\n",
    "        # Query to get the first 'n' rows (head)\n",
    "        head_query = f\"SELECT * FROM {table_name} LIMIT {n}\"\n",
    "        df_head = pd.read_sql_query(head_query, conn)\n",
    "\n",
    "        # Query to get the last 'n' rows (tail)\n",
    "        # In SQLite, we can't directly use OFFSET with a negative value, so we use a subquery\n",
    "        tail_query = f\"\"\"\n",
    "        SELECT * FROM (\n",
    "            SELECT * FROM {table_name} ORDER BY ROWID DESC LIMIT {n}\n",
    "        ) \n",
    "        \"\"\"\n",
    "        df_tail = pd.read_sql_query(tail_query, conn)\n",
    "\n",
    "        # Print the head and tail using Pandas\n",
    "        print(f\"Head of {table_name}:\")\n",
    "        print(df_head.to_string(index=False))\n",
    "\n",
    "        print(\"\\n---\\n\")\n",
    "\n",
    "        print(f\"Tail of {table_name}:\")\n",
    "        print(df_tail.to_string(index=False))\n",
    "\n",
    "    except sqlite3.Error as e:\n",
    "        print(f\"An error occurred: {e}\")\n",
    "    finally:\n",
    "        # Close the connection\n",
    "        conn.close()"
   ]
  },
  {
   "cell_type": "code",
   "execution_count": 12,
   "metadata": {},
   "outputs": [
    {
     "name": "stdout",
     "output_type": "stream",
     "text": [
      "Head of media:\n",
      "Empty DataFrame\n",
      "Columns: [media_id, club_id, media_url, media_src, post_date, club_name]\n",
      "Index: []\n",
      "\n",
      "---\n",
      "\n",
      "Tail of media:\n",
      "Empty DataFrame\n",
      "Columns: [media_id, club_id, media_url, media_src, post_date, club_name]\n",
      "Index: []\n"
     ]
    }
   ],
   "source": [
    "table_summary('clubs.db', 'media')"
   ]
  },
  {
   "cell_type": "code",
   "execution_count": 4,
   "metadata": {},
   "outputs": [],
   "source": [
    "# Add insta_id column to clubs\n",
    "conn = sqlite3.connect(\"clubs.db\")\n",
    "c = conn.cursor()\n",
    "c.execute(\"ALTER TABLE clubs ADD COLUMN insta_id TEXT\")\n",
    "conn.close()"
   ]
  }
 ],
 "metadata": {
  "kernelspec": {
   "display_name": "Python 3",
   "language": "python",
   "name": "python3"
  },
  "language_info": {
   "codemirror_mode": {
    "name": "ipython",
    "version": 3
   },
   "file_extension": ".py",
   "mimetype": "text/x-python",
   "name": "python",
   "nbconvert_exporter": "python",
   "pygments_lexer": "ipython3",
   "version": "3.10.12"
  }
 },
 "nbformat": 4,
 "nbformat_minor": 2
}
