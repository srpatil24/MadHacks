{
 "cells": [
  {
   "cell_type": "code",
   "execution_count": 17,
   "metadata": {},
   "outputs": [],
   "source": [
    "from selenium import webdriver\n",
    "import pandas as pd\n",
    "import numpy as np\n",
    "import bs4 as bs\n",
    "import requests\n",
    "import time\n",
    "import re\n",
    "\n",
    "from selenium.webdriver.common.by import By\n",
    "from selenium.webdriver.support.ui import WebDriverWait\n",
    "from selenium.webdriver.support import expected_conditions as EC\n",
    "from selenium.webdriver.support.ui import Select\n",
    "import sqlite3\n",
    "\n",
    "import json\n"
   ]
  },
  {
   "cell_type": "markdown",
   "metadata": {},
   "source": [
    "# Scrapes club information from https://win.wisc.edu/organizations"
   ]
  },
  {
   "cell_type": "code",
   "execution_count": 3,
   "metadata": {},
   "outputs": [],
   "source": [
    "orgs = {} # category/links to orgs"
   ]
  },
  {
   "cell_type": "code",
   "execution_count": 4,
   "metadata": {},
   "outputs": [],
   "source": [
    "\n",
    "script = \"\"\"\n",
    "window.initialAppState = {\n",
    "  \"institution\": null,\n",
    "  \"coverPhoto\": {\n",
    "    \"id\": 33292,\n",
    "    \"imageId\": \"3efac84c-3a41-4576-b8a2-954ac060ab54\",\n",
    "    \"imagePath\": \"1a2713b8-ac31-4b8d-80ea-5bedc778fe98601cb149-9070-4029-bdce-358e6f49baf2.png\",\n",
    "    \"url\": \"https://se-images-blob.campuslabs.com/communities/13/coverphotos/3efac84c-3a41-4576-b8a2-954ac060ab54.jpg\",\n",
    "    \"thumbnailUrl\": \"https://se-images-blob.campuslabs.com/communities/13/coverphotos/3efac84c-3a41-4576-b8a2-954ac060ab54-thumbnail.jpg\",\n",
    "    \"caption\": \"Uploaded cover photo has no appropriate alternative text\",\n",
    "    \"dateCreated\": \"2015-09-18T11:00:19-04:00\",\n",
    "    \"institutionId\": 13\n",
    "  },\n",
    "  \"user\": null,\n",
    "  \"preFetchedData\": {\n",
    "    \"event\": null,\n",
    "    \"loadAdditionalEventDetails\": false,\n",
    "    \"organization\": null,\n",
    "    \"article\": null\n",
    "  },\n",
    "  \"imageServerBaseUrl\": \"https://se-images.campuslabs.com/clink/images/\",\n",
    "  \"baseUrl\": \"https://win.wisc.edu\",\n",
    "  \"serverSideContextRoot\": \"\",\n",
    "  \"serviceOpportunitiesEnabled\": true,\n",
    "  \"xsrfToken\": \"CfDJ8Az9GcAD4TpIm2NmyW6ywWGVx-h6W6ReMiMmwNyNFfXNvjAWSEeM9-k4BTBtxd3GDZfDT9totomVmjvNV_EL8PRB2ENuQ8UMNjI02Yp4VUMkTjSkJO59zbEoRZyxcskyor4fICpUSLyt57P7fBKo_Qs\",\n",
    "  \"reCaptchaPublicKey\": \"6LdlpB0TAAAAAJ25ETYC1pRiwGiT7clzxta-HGH0\",\n",
    "  \"returnUrl\": \"\",\n",
    "  \"launchDarkly\": null\n",
    "};\n",
    "\"\"\"\n",
    "    \n",
    "category_ids = {10879: 'Academic/Career', 10877: 'Activism/Advocacy', 10875: 'Agricultural/Environmental', 2462: 'Arts/Music', 2463: 'Cultural/Ethnic', 10874: 'Graduate/Professional', 10873: 'Health/Wellness', 2464: 'Honorary', 10876: 'Media/Publication', 10878: 'Political Interest', 2467: 'Religious/Spiritual', 2469: 'Service/Volunteer', 2470: 'Social Fraternity/Sorority', 2471: 'Sports/Recreation'}\n",
    "    \n",
    "for category_id in category_ids:\n",
    "  url = f\"https://win.wisc.edu/organizations?categories={category_id}\"\n",
    "  driver = webdriver.Chrome()\n",
    "  driver.get(url)\n",
    "  time.sleep(2)\n",
    "  buttons = driver.find_elements(By.CLASS_NAME, 'outlinedButton')\n",
    "  while len(buttons) > 1:\n",
    "      buttons[1].click()\n",
    "      time.sleep(1)\n",
    "      buttons = driver.find_elements(By.CLASS_NAME, 'outlinedButton')\n",
    "\n",
    "  div_element = driver.find_element(By.ID, 'org-search-results')\n",
    "  soup = bs.BeautifulSoup(div_element.get_attribute('innerHTML'), 'html.parser')\n",
    "  link_elements = soup.find_all('a')\n",
    "\n",
    "  links = []\n",
    "  for link_element in link_elements:\n",
    "      if link_element:\n",
    "        link_url = link_element.get('href')  # Get the link's URL\n",
    "        if link_url:\n",
    "            links.append(link_url)\n",
    "      \n",
    "    \n",
    "  orgs[category_ids[category_id]] = links\n",
    " "
   ]
  },
  {
   "cell_type": "code",
   "execution_count": 6,
   "metadata": {},
   "outputs": [],
   "source": [
    "  # Put all links into club_categories\n",
    "  conn = sqlite3.connect('clubs.db')\n",
    "  c = conn.cursor()\n",
    "  for category_id in category_ids:\n",
    "    for link in orgs[category_ids[category_id]]:\n",
    "      c.execute(\"INSERT INTO club_categories VALUES (?, ?)\", (link, category_id))\n",
    "      \n",
    "  \n",
    "  conn.commit()\n",
    "  conn.close()"
   ]
  },
  {
   "cell_type": "code",
   "execution_count": 36,
   "metadata": {},
   "outputs": [],
   "source": [
    "# clubs = pd.read_sql(\"SELECT * FROM club_categories\", conn)\n",
    "# club_ids = clubs['club_id'].unique()\n",
    "# for club_id in club_ids:\n",
    "#     link = club_id\n",
    "    \n",
    "\n",
    "conn = sqlite3.connect('clubs.db')\n",
    "c = conn.cursor()\n",
    "    \n",
    "club_ids = pd.read_sql(\"SELECT * FROM club_categories\", conn)['club_id'].unique()    "
   ]
  },
  {
   "cell_type": "code",
   "execution_count": 39,
   "metadata": {},
   "outputs": [],
   "source": [
    "conn = sqlite3.connect('clubs.db')\n",
    "clubs = pd.read_sql(\"SELECT club_id FROM clubs\", conn).nunique()"
   ]
  },
  {
   "cell_type": "code",
   "execution_count": 41,
   "metadata": {},
   "outputs": [
    {
     "data": {
      "text/plain": [
       "instagramUrl    554\n",
       "dtype: int64"
      ]
     },
     "execution_count": 41,
     "metadata": {},
     "output_type": "execute_result"
    }
   ],
   "source": [
    "num_ig_accs = pd.read_sql(\"SELECT instagramUrl FROM clubs\", conn).nunique()\n",
    "num_ig_accs"
   ]
  }
 ],
 "metadata": {
  "kernelspec": {
   "display_name": "Python 3",
   "language": "python",
   "name": "python3"
  },
  "language_info": {
   "codemirror_mode": {
    "name": "ipython",
    "version": 3
   },
   "file_extension": ".py",
   "mimetype": "text/x-python",
   "name": "python",
   "nbconvert_exporter": "python",
   "pygments_lexer": "ipython3",
   "version": "3.10.12"
  }
 },
 "nbformat": 4,
 "nbformat_minor": 2
}
